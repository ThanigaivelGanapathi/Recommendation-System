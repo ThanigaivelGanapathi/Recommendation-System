{
 "cells": [
  {
   "cell_type": "code",
   "execution_count": null,
   "id": "09fe0ce8",
   "metadata": {},
   "outputs": [],
   "source": [
    "#1.\n",
    "from sklearn.feature_selection import RFE\n",
    "from sklearn.linear_model import LogisticRegression\n",
    "\n",
    "X = [[1, 2], [3, 4], [5, 6]]\n",
    "y = [1, 0, 1]\n",
    "\n",
    "rfe = RFE(estimator=LogisticRegression(), n_features_to_select=1)\n",
    "X_new = rfe.fit_transform(X, y)\n"
   ]
  },
  {
   "cell_type": "code",
   "execution_count": 5,
   "id": "e1f7486f",
   "metadata": {},
   "outputs": [
    {
     "name": "stdout",
     "output_type": "stream",
     "text": [
      "[[ 2]\n",
      " [ 4]\n",
      " [ 6]\n",
      " [ 8]\n",
      " [10]]\n"
     ]
    }
   ],
   "source": [
    "#ans-Explanation: Not enough samples for recursive elimination.\n",
    "from sklearn.feature_selection import RFE\n",
    "from sklearn.linear_model import LogisticRegression\n",
    "\n",
    "X = [[1, 2], [3, 4], [5, 6], [7, 8], [9, 10]]\n",
    "y = [1, 0, 1, 0, 1]\n",
    "rfe = RFE(estimator=LogisticRegression(), n_features_to_select=1)\n",
    "X_new = rfe.fit_transform(X, y)\n",
    "print(X_new)\n"
   ]
  },
  {
   "cell_type": "code",
   "execution_count": null,
   "id": "9eb087c8",
   "metadata": {},
   "outputs": [],
   "source": [
    "#2.\n",
    "from sklearn.feature_selection import VarianceThreshold\n",
    "\n",
    "X = [[0, 0, 0], [0, 0, 0], [0, 0, 0]]\n",
    "selector = VarianceThreshold(threshold=0.1)\n",
    "X_new = selector.fit_transform(X)\n"
   ]
  },
  {
   "cell_type": "code",
   "execution_count": 7,
   "id": "9e7303a4",
   "metadata": {},
   "outputs": [
    {
     "name": "stdout",
     "output_type": "stream",
     "text": [
      "[[0 1 0]\n",
      " [0 2 1]\n",
      " [1 1 0]]\n"
     ]
    }
   ],
   "source": [
    "#ans-All features have zero variance.\n",
    "from sklearn.feature_selection import VarianceThreshold\n",
    "X = [[0, 1, 0], [0, 2, 1], [1, 1, 0]]\n",
    "selector = VarianceThreshold(threshold=0.1)\n",
    "X_new = selector.fit_transform(X)\n",
    "print(X_new)\n"
   ]
  },
  {
   "cell_type": "code",
   "execution_count": null,
   "id": "36dbf617",
   "metadata": {},
   "outputs": [],
   "source": [
    "#3.\n",
    "from sklearn.metrics.pairwise import cosine_similarity\n",
    "data = [[5, 0, 3], [0, 0, 0]]\n",
    "similarity = cosine_similarity(data)\n"
   ]
  },
  {
   "cell_type": "code",
   "execution_count": 8,
   "id": "e1d1ba25",
   "metadata": {},
   "outputs": [
    {
     "name": "stdout",
     "output_type": "stream",
     "text": [
      "[[1.         0.46017899]\n",
      " [0.46017899 1.        ]]\n"
     ]
    }
   ],
   "source": [
    "#ans-issue-Cosine similarity is undefined for zero vectors.\n",
    "from sklearn.metrics.pairwise import cosine_similarity\n",
    "data = [[5, 0, 3], [0, 1, 2]]\n",
    "similarity = cosine_similarity(data)\n",
    "print(similarity)\n"
   ]
  },
  {
   "cell_type": "code",
   "execution_count": null,
   "id": "62e380e1",
   "metadata": {},
   "outputs": [],
   "source": [
    "#4.\n",
    "from sklearn.feature_selection import SelectFromModel\n",
    "from sklearn.tree import DecisionTreeClassifier\n",
    "\n",
    "X = [[1, 2], [3, 4], [5, 6]]\n",
    "y = [1, 0, 1]\n",
    "selector = SelectFromModel(DecisionTreeClassifier(), threshold=\"mean\")\n",
    "X_new = selector.fit_transform(X, y)\n"
   ]
  },
  {
   "cell_type": "code",
   "execution_count": 10,
   "id": "114f2a02",
   "metadata": {},
   "outputs": [
    {
     "name": "stdout",
     "output_type": "stream",
     "text": [
      "[[1]\n",
      " [3]\n",
      " [5]\n",
      " [7]\n",
      " [2]]\n"
     ]
    }
   ],
   "source": [
    "#ans-Not enough data, importance ranking is unstable.\n",
    "from sklearn.feature_selection import SelectFromModel\n",
    "from sklearn.tree import DecisionTreeClassifier\n",
    "\n",
    "X = [[1, 2], [3, 4], [5, 6], [7, 8], [2, 3]]\n",
    "y = [1, 0, 1, 0, 1]\n",
    "selector = SelectFromModel(DecisionTreeClassifier(), threshold=\"mean\")\n",
    "X_new = selector.fit_transform(X, y)\n",
    "print(X_new)\n"
   ]
  },
  {
   "cell_type": "code",
   "execution_count": null,
   "id": "546bb8e7",
   "metadata": {},
   "outputs": [],
   "source": [
    "#5.\n",
    "data = pd.DataFrame({\n",
    "    'user': ['A', 'B', 'A'],\n",
    "    'item': ['I1', 'I2', 'I2'],\n",
    "    'rate': [5, 4, 3]\n",
    "})\n",
    "pivot = data.pivot(index='user', columns='item', values='rating')\n"
   ]
  },
  {
   "cell_type": "code",
   "execution_count": 12,
   "id": "9733200c",
   "metadata": {},
   "outputs": [
    {
     "name": "stdout",
     "output_type": "stream",
     "text": [
      "item   I1   I2\n",
      "user          \n",
      "A     5.0  3.0\n",
      "B     NaN  4.0\n"
     ]
    }
   ],
   "source": [
    "#ans- Explanation: Wrong column name rating.\n",
    "import pandas as pd\n",
    "data = pd.DataFrame({\n",
    "    'user': ['A', 'B', 'A'],\n",
    "    'item': ['I1', 'I2', 'I2'],\n",
    "    'rating': [5, 4, 3]\n",
    "})\n",
    "pivot = data.pivot(index='user', columns='item', values='rating')\n",
    "print(pivot)\n"
   ]
  },
  {
   "cell_type": "code",
   "execution_count": null,
   "id": "87f75a5d",
   "metadata": {},
   "outputs": [],
   "source": [
    "#6.\n",
    "from sklearn.decomposition import PCA\n",
    "import numpy as np\n",
    "\n",
    "X = np.array([[1, 2], [3, 4]])\n",
    "pca = PCA(n_components=3)\n",
    "X_new = pca.fit_transform(X)\n"
   ]
  },
  {
   "cell_type": "code",
   "execution_count": 13,
   "id": "e586f9da",
   "metadata": {},
   "outputs": [
    {
     "name": "stdout",
     "output_type": "stream",
     "text": [
      "[[-3.67695526]\n",
      " [-0.84852814]\n",
      " [ 1.97989899]\n",
      " [ 4.80832611]\n",
      " [-2.2627417 ]]\n"
     ]
    }
   ],
   "source": [
    "#ans-Explanation: n_components > min(n_samples, n_features).\n",
    "from sklearn.decomposition import PCA\n",
    "import numpy as np\n",
    "pca = PCA(n_components=1)\n",
    "X_new = pca.fit_transform(X)\n",
    "print(X_new)\n"
   ]
  },
  {
   "cell_type": "code",
   "execution_count": null,
   "id": "64eef9a3",
   "metadata": {},
   "outputs": [],
   "source": [
    "#7.\n",
    "ratings = pd.DataFrame({\n",
    "    'User1': [5, None, 3],\n",
    "    'User2': [None, 4, None],\n",
    "    'User3': [1, 2, None]\n",
    "})\n",
    "sim = cosine_similarity(ratings.T)\n"
   ]
  },
  {
   "cell_type": "code",
   "execution_count": 14,
   "id": "7ade2642",
   "metadata": {},
   "outputs": [
    {
     "name": "stdout",
     "output_type": "stream",
     "text": [
      "[[1.         0.         0.38348249]\n",
      " [0.         1.         0.89442719]\n",
      " [0.38348249 0.89442719 1.        ]]\n"
     ]
    }
   ],
   "source": [
    "#ans-Explanation: NaNs must be handled first.ratings = ratings.fillna(0)\n",
    "ratings = pd.DataFrame({\n",
    "    'User1': [5, None, 3],\n",
    "    'User2': [None, 4, None],\n",
    "    'User3': [1, 2, None]\n",
    "})\n",
    "ratings = ratings.fillna(0)\n",
    "sim = cosine_similarity(ratings.T)\n",
    "print(sim)\n"
   ]
  },
  {
   "cell_type": "code",
   "execution_count": null,
   "id": "7c16e666",
   "metadata": {},
   "outputs": [],
   "source": [
    "#8.\n",
    "import numpy as np\n",
    "\n",
    "user_vec = np.array([1, 2])\n",
    "item_vec = np.array([0.5, 1.0])\n",
    "score = np.dot(user_vec, item_vec)\n",
    "print(\"Predicted Score:\", score)\n"
   ]
  },
  {
   "cell_type": "code",
   "execution_count": 15,
   "id": "f1fda08d",
   "metadata": {},
   "outputs": [
    {
     "name": "stdout",
     "output_type": "stream",
     "text": [
      "Predicted Score: [[2.5]]\n"
     ]
    }
   ],
   "source": [
    "user_vec = np.array([[1, 2]])\n",
    "item_vec = np.array([[0.5], [1.0]])\n",
    "score = np.dot(user_vec, item_vec)\n",
    "print(\"Predicted Score:\", score)\n"
   ]
  },
  {
   "cell_type": "code",
   "execution_count": null,
   "id": "447b590d",
   "metadata": {},
   "outputs": [],
   "source": [
    "#9.\n",
    "from sklearn.neighbors import NearestNeighbors\n",
    "import numpy as np\n",
    "\n",
    "X = np.array([[1, 0, 1], [0, 1, 0], [1, 1, 1]])\n",
    "model = NearestNeighbors()\n",
    "model.fit(X)\n",
    "distances, indices = model.kneighbors([X[0]], n_neighbors=2)\n",
    "print(indices)\n"
   ]
  },
  {
   "cell_type": "code",
   "execution_count": 16,
   "id": "29c33460",
   "metadata": {},
   "outputs": [
    {
     "name": "stdout",
     "output_type": "stream",
     "text": [
      "Neighbors (indices): [[0 2]]\n"
     ]
    }
   ],
   "source": [
    "\n",
    "#10.\n",
    "from sklearn.neighbors import NearestNeighbors\n",
    "import numpy as np\n",
    "\n",
    "X = np.array([[1, 0, 1], [0, 1, 0], [1, 1, 1]])\n",
    "model = NearestNeighbors(metric='hamming')\n",
    "model.fit(X)\n",
    "distances, indices = model.kneighbors([X[0]], n_neighbors=2)\n",
    "print(\"Neighbors (indices):\", indices)\n"
   ]
  },
  {
   "cell_type": "code",
   "execution_count": null,
   "id": "1f030e23",
   "metadata": {},
   "outputs": [],
   "source": [
    "#10.\n",
    "from sklearn.metrics.pairwise import cosine_similarity\n",
    "import numpy as np\n",
    "\n",
    "a = np.array([1, 0, 1])\n",
    "b = np.array([0, 1, 1])\n",
    "\n",
    "sim = cosine_similarity(a, b)\n",
    "print(\"Similarity:\", sim)"
   ]
  },
  {
   "cell_type": "code",
   "execution_count": 18,
   "id": "07e40947",
   "metadata": {},
   "outputs": [
    {
     "name": "stdout",
     "output_type": "stream",
     "text": [
      "Similarity: [[0.5]]\n"
     ]
    }
   ],
   "source": [
    "from sklearn.metrics.pairwise import cosine_similarity\n",
    "import numpy as np\n",
    "a = np.array([1, 0, 1]).reshape(1, -1)\n",
    "b = np.array([0, 1, 1]).reshape(1, -1)\n",
    "\n",
    "sim = cosine_similarity(a, b)\n",
    "print(\"Similarity:\", sim)\n"
   ]
  },
  {
   "cell_type": "code",
   "execution_count": null,
   "id": "38201ee5",
   "metadata": {},
   "outputs": [],
   "source": []
  }
 ],
 "metadata": {
  "kernelspec": {
   "display_name": "Python 3 (ipykernel)",
   "language": "python",
   "name": "python3"
  },
  "language_info": {
   "codemirror_mode": {
    "name": "ipython",
    "version": 3
   },
   "file_extension": ".py",
   "mimetype": "text/x-python",
   "name": "python",
   "nbconvert_exporter": "python",
   "pygments_lexer": "ipython3",
   "version": "3.7.6"
  }
 },
 "nbformat": 4,
 "nbformat_minor": 5
}
