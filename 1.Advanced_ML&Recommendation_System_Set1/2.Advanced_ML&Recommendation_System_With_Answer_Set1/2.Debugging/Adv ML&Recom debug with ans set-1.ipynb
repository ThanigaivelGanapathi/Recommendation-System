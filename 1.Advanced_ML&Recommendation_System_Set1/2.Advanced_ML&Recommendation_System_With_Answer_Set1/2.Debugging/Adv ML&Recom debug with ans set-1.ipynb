{
 "cells": [
  {
   "cell_type": "code",
   "execution_count": null,
   "id": "76cd4567",
   "metadata": {},
   "outputs": [],
   "source": [
    "#1. Why does this feature selection with chi2 fail?\n",
    "from sklearn.feature_selection import SelectKBest, chi2\n",
    "\n",
    "X = [[-1, 2, 3], [4, 0, -6], [7, 8, 9], [1, 2, 3]]\n",
    "y = [0, 1, 0, 1]\n",
    "\n",
    "selector = SelectKBest(score_func=chi2, k=2)\n",
    "X_new = selector.fit_transform(X, y)\n"
   ]
  },
  {
   "cell_type": "code",
   "execution_count": 9,
   "id": "3c33b0e6",
   "metadata": {},
   "outputs": [
    {
     "name": "stdout",
     "output_type": "stream",
     "text": [
      "[[0.25 0.6 ]\n",
      " [0.   0.  ]\n",
      " [1.   1.  ]\n",
      " [0.25 0.6 ]]\n"
     ]
    }
   ],
   "source": [
    "#ans – chi2 requires non-negative values, so scaling is needed.\n",
    "from sklearn.preprocessing import MinMaxScaler\n",
    "from sklearn.feature_selection import SelectKBest, chi2\n",
    "\n",
    "X = [[-1, 2, 3], [4, 0, -6], [7, 8, 9], [1, 2, 3]]\n",
    "y = [0, 1, 0, 1]\n",
    "\n",
    "X_scaled = MinMaxScaler().fit_transform(X)\n",
    "selector = SelectKBest(score_func=chi2, k=2)\n",
    "X_new = selector.fit_transform(X_scaled, y)\n",
    "\n",
    "print(X_new)\n"
   ]
  },
  {
   "cell_type": "code",
   "execution_count": null,
   "id": "24cacb1e",
   "metadata": {},
   "outputs": [],
   "source": [
    "#2.\n",
    "from sklearn.metrics.pairwise import cosine_similarity\n",
    "\n",
    "# Error: strings instead of numerical features\n",
    "user1 = ['action', 'comedy', 'romance']\n",
    "user2 = ['action', 'thriller', 'comedy']\n",
    "\n",
    "similarity = cosine_similarity([user1], [user2])\n"
   ]
  },
  {
   "cell_type": "code",
   "execution_count": 10,
   "id": "83764378",
   "metadata": {},
   "outputs": [
    {
     "name": "stdout",
     "output_type": "stream",
     "text": [
      "[[0.66666667]]\n"
     ]
    }
   ],
   "source": [
    "# ✅ Fix: Use binary/encoded vectors\n",
    "from sklearn.metrics.pairwise import cosine_similarity\n",
    "\n",
    "user1 = [1, 1, 1, 0, 0]  # action, comedy, romance\n",
    "user2 = [1, 1, 0, 1, 0]  # action, comedy, thriller\n",
    "\n",
    "similarity = cosine_similarity([user1], [user2])\n",
    "print(similarity)\n"
   ]
  },
  {
   "cell_type": "code",
   "execution_count": null,
   "id": "ebc4f0d8",
   "metadata": {},
   "outputs": [],
   "source": [
    "#3.\n",
    "from sklearn.decomposition import PCA\n",
    "\n",
    "X = [[1, 2], [3, 4], [5, 6]]\n",
    "pca = PCA(n_components=5)  # more components than features\n",
    "X_new = pca.fit_transform(X)\n"
   ]
  },
  {
   "cell_type": "code",
   "execution_count": 11,
   "id": "f2ee364f",
   "metadata": {},
   "outputs": [],
   "source": [
    "# ✅ Fix: n_components must be <= number of features\n",
    "from sklearn.decomposition import PCA\n",
    "\n",
    "X = [[1, 2], [3, 4], [5, 6]]\n",
    "pca = PCA(n_components=2)\n",
    "X_new = pca.fit_transform(X)\n"
   ]
  },
  {
   "cell_type": "code",
   "execution_count": null,
   "id": "703e512d",
   "metadata": {},
   "outputs": [],
   "source": [
    "#4.\n",
    "from sklearn.metrics.pairwise import cosine_similarity\n",
    "import numpy as np\n",
    "\n",
    "ratings = np.array([[5, 3, np.nan], [4, np.nan, 3]])\n",
    "\n",
    "similarity = cosine_similarity(ratings)\n"
   ]
  },
  {
   "cell_type": "code",
   "execution_count": 12,
   "id": "22e1b001",
   "metadata": {},
   "outputs": [],
   "source": [
    "# ✅ Fix: Fill missing values before similarity\n",
    "from sklearn.metrics.pairwise import cosine_similarity\n",
    "import numpy as np\n",
    "\n",
    "ratings = np.array([[5, 3, np.nan], [4, np.nan, 3]])\n",
    "ratings_filled = np.nan_to_num(ratings)\n",
    "\n",
    "similarity = cosine_similarity(ratings_filled)\n"
   ]
  },
  {
   "cell_type": "code",
   "execution_count": null,
   "id": "847e0926",
   "metadata": {},
   "outputs": [],
   "source": [
    "#5.\n",
    "from sklearn.feature_selection import RFE\n",
    "from sklearn.linear_model import LogisticRegression\n",
    "\n",
    "selector = RFE(estimator=LogisticRegression(), n_features_to_select=5)\n",
    "selector.fit(X, y)  # Error: X and y not defined\n"
   ]
  },
  {
   "cell_type": "code",
   "execution_count": 13,
   "id": "6b5c1359",
   "metadata": {},
   "outputs": [
    {
     "name": "stdout",
     "output_type": "stream",
     "text": [
      "[False  True  True]\n"
     ]
    }
   ],
   "source": [
    "# ✅ Fix: Define X and y before using selector\n",
    "from sklearn.feature_selection import RFE\n",
    "from sklearn.linear_model import LogisticRegression\n",
    "\n",
    "X = [[1, 2, 3], [4, 5, 6], [7, 8, 9], [2, 3, 4]]\n",
    "y = [0, 1, 0, 1]\n",
    "\n",
    "selector = RFE(estimator=LogisticRegression(), n_features_to_select=2)\n",
    "selector.fit(X, y)\n",
    "print(selector.support_)\n"
   ]
  },
  {
   "cell_type": "code",
   "execution_count": null,
   "id": "87d259c6",
   "metadata": {},
   "outputs": [],
   "source": [
    "#6.from sklearn.metrics.pairwise import cosine_similarity\n",
    "\n",
    "items = [\"action movie\", \"romantic comedy\", \"sci-fi thriller\"]\n",
    "similarity = cosine_similarity([items[0]], [items[1]])\n"
   ]
  },
  {
   "cell_type": "code",
   "execution_count": 14,
   "id": "984a925d",
   "metadata": {},
   "outputs": [
    {
     "name": "stdout",
     "output_type": "stream",
     "text": [
      "[[0.]]\n"
     ]
    }
   ],
   "source": [
    "# ✅ Fix: Convert text to vector using TF-IDF\n",
    "from sklearn.feature_extraction.text import TfidfVectorizer\n",
    "from sklearn.metrics.pairwise import cosine_similarity\n",
    "\n",
    "items = [\"action movie\", \"romantic comedy\", \"sci-fi thriller\"]\n",
    "vectorizer = TfidfVectorizer()\n",
    "tfidf_matrix = vectorizer.fit_transform(items)\n",
    "\n",
    "similarity = cosine_similarity(tfidf_matrix[0:1], tfidf_matrix[1:2])\n",
    "print(similarity)\n"
   ]
  },
  {
   "cell_type": "code",
   "execution_count": null,
   "id": "43e6b1aa",
   "metadata": {},
   "outputs": [],
   "source": [
    "#7.\n",
    "from sklearn.feature_selection import SelectKBest, f_classif\n",
    "\n",
    "X = [[1, 2], [3, 4], [5, 6]]\n",
    "y = [0, 1]  # Error: mismatched dimensions\n",
    "selector = SelectKBest(score_func=f_classif, k=1)\n",
    "X_new = selector.fit_transform(X, y)\n"
   ]
  },
  {
   "cell_type": "code",
   "execution_count": 15,
   "id": "7c7e026c",
   "metadata": {},
   "outputs": [],
   "source": [
    "# ✅ Fix: Length of y must match X\n",
    "from sklearn.feature_selection import SelectKBest, f_classif\n",
    "\n",
    "X = [[1, 2], [3, 4], [5, 6]]\n",
    "y = [0, 1, 0]\n",
    "\n",
    "selector = SelectKBest(score_func=f_classif, k=1)\n",
    "X_new = selector.fit_transform(X, y)\n"
   ]
  },
  {
   "cell_type": "code",
   "execution_count": null,
   "id": "91f6906f",
   "metadata": {},
   "outputs": [],
   "source": [
    "#8.\n",
    "import numpy as np\n",
    "from sklearn.metrics.pairwise import cosine_similarity\n",
    "\n",
    "ratings = np.array([5, 4, 3])\n",
    "cosine_similarity(ratings, ratings)\n"
   ]
  },
  {
   "cell_type": "code",
   "execution_count": 16,
   "id": "5b3ddf07",
   "metadata": {},
   "outputs": [
    {
     "data": {
      "text/plain": [
       "array([[1.]])"
      ]
     },
     "execution_count": 16,
     "metadata": {},
     "output_type": "execute_result"
    }
   ],
   "source": [
    "# ✅ Fix: Reshape to 2D array\n",
    "ratings = np.array([5, 4, 3]).reshape(1, -1)\n",
    "cosine_similarity(ratings, ratings)\n"
   ]
  },
  {
   "cell_type": "code",
   "execution_count": null,
   "id": "b70978de",
   "metadata": {},
   "outputs": [],
   "source": [
    "#9.\n",
    "from sklearn.pipeline import Pipeline\n",
    "from sklearn.feature_selection import SelectKBest, chi2\n",
    "\n",
    "X = [[1, 2], [3, None], [4, 5]]\n",
    "y = [0, 1, 0]\n",
    "\n",
    "pipeline = Pipeline([\n",
    "    ('select', SelectKBest(score_func=chi2, k=1))\n",
    "])\n",
    "\n",
    "pipeline.fit(X, y)\n"
   ]
  },
  {
   "cell_type": "code",
   "execution_count": 17,
   "id": "8af9cf9e",
   "metadata": {},
   "outputs": [
    {
     "data": {
      "text/plain": [
       "Pipeline(steps=[('select',\n",
       "                 SelectKBest(k=1,\n",
       "                             score_func=<function chi2 at 0x000001E204A83948>))])"
      ]
     },
     "execution_count": 17,
     "metadata": {},
     "output_type": "execute_result"
    }
   ],
   "source": [
    "# ✅ Fix: Fill or remove missing values\n",
    "from sklearn.pipeline import Pipeline\n",
    "from sklearn.feature_selection import SelectKBest, chi2\n",
    "import numpy as np\n",
    "\n",
    "X = [[1, 2], [3, 2], [4, 5]]\n",
    "y = [0, 1, 0]\n",
    "\n",
    "pipeline = Pipeline([\n",
    "    ('select', SelectKBest(score_func=chi2, k=1))\n",
    "])\n",
    "\n",
    "pipeline.fit(X, y)\n"
   ]
  },
  {
   "cell_type": "code",
   "execution_count": null,
   "id": "6f7c2f00",
   "metadata": {},
   "outputs": [],
   "source": [
    "#10.\n",
    "from scipy.sparse import csr_matrix\n",
    "from sklearn.feature_selection import SelectKBest, chi2\n",
    "\n",
    "X = csr_matrix([[0, -1, 3], [0, 2, 1], [3, -1, 0]])\n",
    "y = [0, 1, 0]\n",
    "\n",
    "selector = SelectKBest(score_func=chi2, k=2)\n",
    "X_new = selector.fit_transform(X, y)\n"
   ]
  },
  {
   "cell_type": "code",
   "execution_count": 18,
   "id": "a32e125d",
   "metadata": {},
   "outputs": [],
   "source": [
    "# ✅ Fix: chi2 requires non-negative input\n",
    "from scipy.sparse import csr_matrix\n",
    "from sklearn.preprocessing import MinMaxScaler\n",
    "from sklearn.feature_selection import SelectKBest, chi2\n",
    "\n",
    "X = [[0, -1, 3], [0, 2, 1], [3, -1, 0]]\n",
    "y = [0, 1, 0]\n",
    "\n",
    "X_scaled = MinMaxScaler().fit_transform(X)\n",
    "selector = SelectKBest(score_func=chi2, k=2)\n",
    "X_new = selector.fit_transform(X_scaled, y)\n"
   ]
  },
  {
   "cell_type": "code",
   "execution_count": null,
   "id": "ff00ede4",
   "metadata": {},
   "outputs": [],
   "source": []
  }
 ],
 "metadata": {
  "kernelspec": {
   "display_name": "Python 3 (ipykernel)",
   "language": "python",
   "name": "python3"
  },
  "language_info": {
   "codemirror_mode": {
    "name": "ipython",
    "version": 3
   },
   "file_extension": ".py",
   "mimetype": "text/x-python",
   "name": "python",
   "nbconvert_exporter": "python",
   "pygments_lexer": "ipython3",
   "version": "3.7.6"
  }
 },
 "nbformat": 4,
 "nbformat_minor": 5
}
