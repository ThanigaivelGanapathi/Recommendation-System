{
 "cells": [
  {
   "cell_type": "code",
   "execution_count": null,
   "id": "76cd4567",
   "metadata": {},
   "outputs": [],
   "source": [
    "#1. Why does this feature selection with chi2 fail?\n",
    "from sklearn.feature_selection import SelectKBest, chi2\n",
    "\n",
    "X = [[-1, 2, 3], [4, 0, -6], [7, 8, 9], [1, 2, 3]]\n",
    "y = [0, 1, 0, 1]\n",
    "\n",
    "selector = SelectKBest(score_func=chi2, k=2)\n",
    "X_new = selector.fit_transform(X, y)\n"
   ]
  },
  {
   "cell_type": "code",
   "execution_count": null,
   "id": "24cacb1e",
   "metadata": {},
   "outputs": [],
   "source": [
    "#2.\n",
    "from sklearn.metrics.pairwise import cosine_similarity\n",
    "\n",
    "# Error: strings instead of numerical features\n",
    "user1 = ['action', 'comedy', 'romance']\n",
    "user2 = ['action', 'thriller', 'comedy']\n",
    "\n",
    "similarity = cosine_similarity([user1], [user2])\n"
   ]
  },
  {
   "cell_type": "code",
   "execution_count": null,
   "id": "ebc4f0d8",
   "metadata": {},
   "outputs": [],
   "source": [
    "#3.\n",
    "from sklearn.decomposition import PCA\n",
    "\n",
    "X = [[1, 2], [3, 4], [5, 6]]\n",
    "pca = PCA(n_components=5)  # more components than features\n",
    "X_new = pca.fit_transform(X)\n"
   ]
  },
  {
   "cell_type": "code",
   "execution_count": null,
   "id": "703e512d",
   "metadata": {},
   "outputs": [],
   "source": [
    "#4.\n",
    "from sklearn.metrics.pairwise import cosine_similarity\n",
    "import numpy as np\n",
    "\n",
    "ratings = np.array([[5, 3, np.nan], [4, np.nan, 3]])\n",
    "\n",
    "similarity = cosine_similarity(ratings)\n"
   ]
  },
  {
   "cell_type": "code",
   "execution_count": null,
   "id": "847e0926",
   "metadata": {},
   "outputs": [],
   "source": [
    "#5.\n",
    "from sklearn.feature_selection import RFE\n",
    "from sklearn.linear_model import LogisticRegression\n",
    "\n",
    "selector = RFE(estimator=LogisticRegression(), n_features_to_select=5)\n",
    "selector.fit(X, y)  # Error: X and y not defined\n"
   ]
  },
  {
   "cell_type": "code",
   "execution_count": null,
   "id": "87d259c6",
   "metadata": {},
   "outputs": [],
   "source": [
    "#6.from sklearn.metrics.pairwise import cosine_similarity\n",
    "\n",
    "items = [\"action movie\", \"romantic comedy\", \"sci-fi thriller\"]\n",
    "similarity = cosine_similarity([items[0]], [items[1]])\n"
   ]
  },
  {
   "cell_type": "code",
   "execution_count": null,
   "id": "43e6b1aa",
   "metadata": {},
   "outputs": [],
   "source": [
    "#7.\n",
    "from sklearn.feature_selection import SelectKBest, f_classif\n",
    "\n",
    "X = [[1, 2], [3, 4], [5, 6]]\n",
    "y = [0, 1]  # Error: mismatched dimensions\n",
    "selector = SelectKBest(score_func=f_classif, k=1)\n",
    "X_new = selector.fit_transform(X, y)\n"
   ]
  },
  {
   "cell_type": "code",
   "execution_count": null,
   "id": "91f6906f",
   "metadata": {},
   "outputs": [],
   "source": [
    "#8.\n",
    "import numpy as np\n",
    "from sklearn.metrics.pairwise import cosine_similarity\n",
    "\n",
    "ratings = np.array([5, 4, 3])\n",
    "cosine_similarity(ratings, ratings)\n"
   ]
  },
  {
   "cell_type": "code",
   "execution_count": null,
   "id": "b70978de",
   "metadata": {},
   "outputs": [],
   "source": [
    "#9.\n",
    "from sklearn.pipeline import Pipeline\n",
    "from sklearn.feature_selection import SelectKBest, chi2\n",
    "\n",
    "X = [[1, 2], [3, None], [4, 5]]\n",
    "y = [0, 1, 0]\n",
    "\n",
    "pipeline = Pipeline([\n",
    "    ('select', SelectKBest(score_func=chi2, k=1))\n",
    "])\n",
    "\n",
    "pipeline.fit(X, y)\n"
   ]
  },
  {
   "cell_type": "code",
   "execution_count": null,
   "id": "6f7c2f00",
   "metadata": {},
   "outputs": [],
   "source": [
    "#10.\n",
    "from scipy.sparse import csr_matrix\n",
    "from sklearn.feature_selection import SelectKBest, chi2\n",
    "\n",
    "X = csr_matrix([[0, -1, 3], [0, 2, 1], [3, -1, 0]])\n",
    "y = [0, 1, 0]\n",
    "\n",
    "selector = SelectKBest(score_func=chi2, k=2)\n",
    "X_new = selector.fit_transform(X, y)\n"
   ]
  },
  {
   "cell_type": "code",
   "execution_count": null,
   "id": "ff00ede4",
   "metadata": {},
   "outputs": [],
   "source": []
  }
 ],
 "metadata": {
  "kernelspec": {
   "display_name": "Python 3 (ipykernel)",
   "language": "python",
   "name": "python3"
  },
  "language_info": {
   "codemirror_mode": {
    "name": "ipython",
    "version": 3
   },
   "file_extension": ".py",
   "mimetype": "text/x-python",
   "name": "python",
   "nbconvert_exporter": "python",
   "pygments_lexer": "ipython3",
   "version": "3.7.6"
  }
 },
 "nbformat": 4,
 "nbformat_minor": 5
}
