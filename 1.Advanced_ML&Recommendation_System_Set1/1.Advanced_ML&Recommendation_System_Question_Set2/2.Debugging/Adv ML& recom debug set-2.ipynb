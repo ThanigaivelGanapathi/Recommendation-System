{
 "cells": [
  {
   "cell_type": "code",
   "execution_count": null,
   "id": "21f6e20c",
   "metadata": {},
   "outputs": [],
   "source": [
    "#1.\n",
    "from sklearn.feature_selection import RFE\n",
    "from sklearn.linear_model import LogisticRegression\n",
    "\n",
    "X = [[1, 2], [3, 4], [5, 6]]\n",
    "y = [1, 0, 1]\n",
    "\n",
    "rfe = RFE(estimator=LogisticRegression(), n_features_to_select=1)\n",
    "X_new = rfe.fit_transform(X, y)\n"
   ]
  },
  {
   "cell_type": "code",
   "execution_count": null,
   "id": "37c27a30",
   "metadata": {},
   "outputs": [],
   "source": [
    "#2.\n",
    "from sklearn.feature_selection import VarianceThreshold\n",
    "\n",
    "X = [[0, 0, 0], [0, 0, 0], [0, 0, 0]]\n",
    "selector = VarianceThreshold(threshold=0.1)\n",
    "X_new = selector.fit_transform(X)\n"
   ]
  },
  {
   "cell_type": "code",
   "execution_count": null,
   "id": "613fa1f9",
   "metadata": {},
   "outputs": [],
   "source": [
    "#3.\n",
    "from sklearn.metrics.pairwise import cosine_similarity\n",
    "data = [[5, 0, 3], [0, 0, 0]]\n",
    "similarity = cosine_similarity(data)\n"
   ]
  },
  {
   "cell_type": "code",
   "execution_count": null,
   "id": "a0a186b5",
   "metadata": {},
   "outputs": [],
   "source": [
    "#4.\n",
    "from sklearn.feature_selection import SelectFromModel\n",
    "from sklearn.tree import DecisionTreeClassifier\n",
    "\n",
    "X = [[1, 2], [3, 4], [5, 6]]\n",
    "y = [1, 0, 1]\n",
    "selector = SelectFromModel(DecisionTreeClassifier(), threshold=\"mean\")\n",
    "X_new = selector.fit_transform(X, y)\n"
   ]
  },
  {
   "cell_type": "code",
   "execution_count": null,
   "id": "3162772f",
   "metadata": {},
   "outputs": [],
   "source": [
    "#5.\n",
    "data = pd.DataFrame({\n",
    "    'user': ['A', 'B', 'A'],\n",
    "    'item': ['I1', 'I2', 'I2'],\n",
    "    'rate': [5, 4, 3]\n",
    "})\n",
    "pivot = data.pivot(index='user', columns='item', values='rating')\n"
   ]
  },
  {
   "cell_type": "code",
   "execution_count": null,
   "id": "3ec936f1",
   "metadata": {},
   "outputs": [],
   "source": [
    "#6.\n",
    "from sklearn.decomposition import PCA\n",
    "import numpy as np\n",
    "\n",
    "X = np.array([[1, 2], [3, 4]])\n",
    "pca = PCA(n_components=3)\n",
    "X_new = pca.fit_transform(X)\n"
   ]
  },
  {
   "cell_type": "code",
   "execution_count": null,
   "id": "915a5b0c",
   "metadata": {},
   "outputs": [],
   "source": [
    "#7.\n",
    "ratings = pd.DataFrame({\n",
    "    'User1': [5, None, 3],\n",
    "    'User2': [None, 4, None],\n",
    "    'User3': [1, 2, None]\n",
    "})\n",
    "sim = cosine_similarity(ratings.T)\n"
   ]
  },
  {
   "cell_type": "code",
   "execution_count": null,
   "id": "e20d459d",
   "metadata": {},
   "outputs": [],
   "source": [
    "#8.\n",
    "import numpy as np\n",
    "\n",
    "user_vec = np.array([1, 2])\n",
    "item_vec = np.array([0.5, 1.0])\n",
    "score = np.dot(user_vec, item_vec)\n",
    "print(\"Predicted Score:\", score)\n"
   ]
  },
  {
   "cell_type": "code",
   "execution_count": null,
   "id": "815f207d",
   "metadata": {},
   "outputs": [],
   "source": [
    "#9.\n",
    "from sklearn.neighbors import NearestNeighbors\n",
    "import numpy as np\n",
    "\n",
    "X = np.array([[1, 0, 1], [0, 1, 0], [1, 1, 1]])\n",
    "model = NearestNeighbors()\n",
    "model.fit(X)\n",
    "distances, indices = model.kneighbors([X[0]], n_neighbors=2)\n",
    "print(indices)\n"
   ]
  },
  {
   "cell_type": "code",
   "execution_count": null,
   "id": "215bc2e1",
   "metadata": {},
   "outputs": [],
   "source": [
    "#10.\n",
    "from sklearn.metrics.pairwise import cosine_similarity\n",
    "import numpy as np\n",
    "\n",
    "a = np.array([1, 0, 1])\n",
    "b = np.array([0, 1, 1])\n",
    "\n",
    "sim = cosine_similarity(a, b)\n",
    "print(\"Similarity:\", sim)"
   ]
  },
  {
   "cell_type": "code",
   "execution_count": null,
   "id": "c1c5f139",
   "metadata": {},
   "outputs": [],
   "source": []
  }
 ],
 "metadata": {
  "kernelspec": {
   "display_name": "Python 3 (ipykernel)",
   "language": "python",
   "name": "python3"
  },
  "language_info": {
   "codemirror_mode": {
    "name": "ipython",
    "version": 3
   },
   "file_extension": ".py",
   "mimetype": "text/x-python",
   "name": "python",
   "nbconvert_exporter": "python",
   "pygments_lexer": "ipython3",
   "version": "3.7.6"
  }
 },
 "nbformat": 4,
 "nbformat_minor": 5
}
